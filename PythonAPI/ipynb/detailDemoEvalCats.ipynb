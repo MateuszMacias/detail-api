{
 "cells": [
  {
   "cell_type": "code",
   "execution_count": 1,
   "metadata": {},
   "outputs": [],
   "source": [
    "%matplotlib inline\n",
    "from detail import Detail\n",
    "import numpy as np\n",
    "from detail.detaileval_segm import catSegEvalClass"
   ]
  },
  {
   "cell_type": "code",
   "execution_count": 2,
   "metadata": {},
   "outputs": [
    {
     "name": "stdout",
     "output_type": "stream",
     "text": [
      "loading annotations into memory...\n",
      "JSON root keys:[u'info', u'annos_occlusion', u'annos_boundary', u'annos_joints', u'annos_segmentation', u'parts', u'images', u'categories']\n",
      "Done (t=5.57s)\n",
      "creating index...\n",
      "index created! (t=3.29s)\n"
     ]
    }
   ],
   "source": [
    "annFile='/home/mateusz/tensorflight/json/trainval_withkeypoints.json' # annotations\n",
    "phase='trainval'\n",
    "predDir = \"../../res/\"\n",
    "\n",
    "details = Detail(annFile, \"\", phase)"
   ]
  },
  {
   "cell_type": "code",
   "execution_count": 3,
   "metadata": {},
   "outputs": [],
   "source": [
    "# dataCatsRand is subset of ground truth where mask pixels were randomly replaced with a neutral class pixel.\n",
    "# thus we expect our result to be about 0.5 (give or take, small dataset size leads )"
   ]
  },
  {
   "cell_type": "code",
   "execution_count": null,
   "metadata": {},
   "outputs": [],
   "source": [
    "evaluator = catSegEvalClass(details)\n",
    "evaluator.loadJSON(predDir + \"dataCatsRand.json\")"
   ]
  },
  {
   "cell_type": "code",
   "execution_count": null,
   "metadata": {},
   "outputs": [
    {
     "name": "stderr",
     "output_type": "stream",
     "text": [
      "  0% |                                                                        |\r"
     ]
    },
    {
     "name": "stdout",
     "output_type": "stream",
     "text": [
      "> /usr/local/lib/python2.7/dist-packages/detail/detaileval_segm.py(85)evaluate()\n",
      "-> intersection[i] = intersection[i] + temp_int\n"
     ]
    }
   ],
   "source": [
    "evaluator.evaluate()\n",
    "evaluator.results"
   ]
  },
  {
   "cell_type": "code",
   "execution_count": 11,
   "metadata": {},
   "outputs": [],
   "source": [
    "# dataCatsSmall is a subset of ground truth. We expect result to be 1."
   ]
  },
  {
   "cell_type": "code",
   "execution_count": 3,
   "metadata": {},
   "outputs": [],
   "source": [
    "evaluator = catSegEvalClass(details)\n",
    "evaluator.loadJSON(predDir + \"dataCatsSmall.json\")"
   ]
  },
  {
   "cell_type": "code",
   "execution_count": 4,
   "metadata": {},
   "outputs": [
    {
     "name": "stderr",
     "output_type": "stream",
     "text": [
      "100% |########################################################################|\n"
     ]
    },
    {
     "data": {
      "text/plain": [
       "1.0"
      ]
     },
     "execution_count": 4,
     "metadata": {},
     "output_type": "execute_result"
    }
   ],
   "source": [
    "evaluator.evaluate()\n",
    "evaluator.results"
   ]
  },
  {
   "cell_type": "code",
   "execution_count": null,
   "metadata": {},
   "outputs": [],
   "source": []
  }
 ],
 "metadata": {
  "kernelspec": {
   "display_name": "Python 3",
   "language": "python",
   "name": "python3"
  },
  "language_info": {
   "codemirror_mode": {
    "name": "ipython",
    "version": 2
   },
   "file_extension": ".py",
   "mimetype": "text/x-python",
   "name": "python",
   "nbconvert_exporter": "python",
   "pygments_lexer": "ipython2",
   "version": "2.7.12"
  }
 },
 "nbformat": 4,
 "nbformat_minor": 2
}
